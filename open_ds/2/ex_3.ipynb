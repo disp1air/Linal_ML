{
 "cells": [
  {
   "cell_type": "code",
   "execution_count": 52,
   "metadata": {},
   "outputs": [],
   "source": [
    "import numpy as np\n",
    "import pandas as pd\n",
    "from matplotlib import pyplot as plt\n",
    "import seaborn as sns\n",
    "%matplotlib inline"
   ]
  },
  {
   "cell_type": "code",
   "execution_count": 24,
   "metadata": {},
   "outputs": [],
   "source": [
    "poll_data = pd.read_csv('./data/mlcourse_open_first_survey_parsed.csv')"
   ]
  },
  {
   "cell_type": "code",
   "execution_count": 25,
   "metadata": {},
   "outputs": [
    {
     "data": {
      "text/html": [
       "<div>\n",
       "<style scoped>\n",
       "    .dataframe tbody tr th:only-of-type {\n",
       "        vertical-align: middle;\n",
       "    }\n",
       "\n",
       "    .dataframe tbody tr th {\n",
       "        vertical-align: top;\n",
       "    }\n",
       "\n",
       "    .dataframe thead th {\n",
       "        text-align: right;\n",
       "    }\n",
       "</style>\n",
       "<table border=\"1\" class=\"dataframe\">\n",
       "  <thead>\n",
       "    <tr style=\"text-align: right;\">\n",
       "      <th></th>\n",
       "      <th>id</th>\n",
       "      <th>Timestamp</th>\n",
       "      <th>Представьтесь в 2-3 фразах</th>\n",
       "      <th>Работали ли Вы с Jupyter notebooks?</th>\n",
       "      <th>Что Вы ждете от курса?</th>\n",
       "      <th>Потом мы прямо этот же набор данных поанализируем с Pandas. Так что какой Ваш любимый вид спорта?</th>\n",
       "      <th>Ладно, посерьезней: согласны ли Вы на обработку персональных данных?</th>\n",
       "      <th>Какие оцениваете свой уровень математической подготовки? (матан, линал, теорвер)</th>\n",
       "      <th>Чему равна дисперсия равномерного на [0,6] распределения?</th>\n",
       "      <th>Найдите минимум функции 3x^4-8x^3+6x^2-12 на отрезке [-3,3]</th>\n",
       "      <th>Сколько параметров у нормального распределения?</th>\n",
       "      <th>Сможете написать на Python генератор чисел Фибоначчи?</th>\n",
       "      <th>Хорошо, а готовы к началу курса (6 сентября 2017) освоить азы Python? На уровне Code Academy, DataCamp или github.com/Yorko/python_intro</th>\n",
       "      <th>Оцените свой уровень владения GitHub</th>\n",
       "      <th>Посоветуйте хороший фильм в стиле \"Игра в имитацию\" :)</th>\n",
       "    </tr>\n",
       "  </thead>\n",
       "  <tbody>\n",
       "    <tr>\n",
       "      <th>0</th>\n",
       "      <td>0</td>\n",
       "      <td>2016/12/05 10:39:59 am GMT+3</td>\n",
       "      <td>крутой Developer</td>\n",
       "      <td>Да</td>\n",
       "      <td>Ребята, вижу ваш настрой, уверен курс будет ин...</td>\n",
       "      <td>Starcraft</td>\n",
       "      <td>Да</td>\n",
       "      <td>4</td>\n",
       "      <td>3</td>\n",
       "      <td>-12</td>\n",
       "      <td>2.0</td>\n",
       "      <td>Да</td>\n",
       "      <td>Да</td>\n",
       "      <td>Проф</td>\n",
       "      <td>Прочитай книгу Лема \"Голос Неба\", очень много ...</td>\n",
       "    </tr>\n",
       "    <tr>\n",
       "      <th>1</th>\n",
       "      <td>1</td>\n",
       "      <td>2016/12/05 10:44:27 am GMT+3</td>\n",
       "      <td>Разработчик Navision. Изучаю тему DS для возмо...</td>\n",
       "      <td>Да</td>\n",
       "      <td>Практики, подкрепленной теорией. Хочется упоря...</td>\n",
       "      <td>NaN</td>\n",
       "      <td>Да</td>\n",
       "      <td>1</td>\n",
       "      <td>3</td>\n",
       "      <td>NaN</td>\n",
       "      <td>2.0</td>\n",
       "      <td>Да, но фиговый.</td>\n",
       "      <td>Да</td>\n",
       "      <td>Могу скачать материалы</td>\n",
       "      <td>NaN</td>\n",
       "    </tr>\n",
       "  </tbody>\n",
       "</table>\n",
       "</div>"
      ],
      "text/plain": [
       "   id                     Timestamp  \\\n",
       "0   0  2016/12/05 10:39:59 am GMT+3   \n",
       "1   1  2016/12/05 10:44:27 am GMT+3   \n",
       "\n",
       "                          Представьтесь в 2-3 фразах  \\\n",
       "0                                   крутой Developer   \n",
       "1  Разработчик Navision. Изучаю тему DS для возмо...   \n",
       "\n",
       "  Работали ли Вы с Jupyter notebooks?  \\\n",
       "0                                  Да   \n",
       "1                                  Да   \n",
       "\n",
       "                              Что Вы ждете от курса?  \\\n",
       "0  Ребята, вижу ваш настрой, уверен курс будет ин...   \n",
       "1  Практики, подкрепленной теорией. Хочется упоря...   \n",
       "\n",
       "  Потом мы прямо этот же набор данных поанализируем с Pandas. Так что какой Ваш любимый вид спорта?  \\\n",
       "0                                          Starcraft                                                  \n",
       "1                                                NaN                                                  \n",
       "\n",
       "  Ладно, посерьезней: согласны ли Вы на обработку персональных данных?  \\\n",
       "0                                                 Да                     \n",
       "1                                                 Да                     \n",
       "\n",
       "   Какие оцениваете свой уровень математической подготовки? (матан, линал, теорвер)  \\\n",
       "0                                                  4                                  \n",
       "1                                                  1                                  \n",
       "\n",
       "  Чему равна дисперсия равномерного на [0,6] распределения?  \\\n",
       "0                                                  3          \n",
       "1                                                  3          \n",
       "\n",
       "  Найдите минимум функции 3x^4-8x^3+6x^2-12 на отрезке [-3,3]  \\\n",
       "0                                                -12            \n",
       "1                                                NaN            \n",
       "\n",
       "   Сколько параметров у нормального распределения?  \\\n",
       "0                                              2.0   \n",
       "1                                              2.0   \n",
       "\n",
       "  Сможете написать на Python генератор чисел Фибоначчи?  \\\n",
       "0                                                 Да      \n",
       "1                                    Да, но фиговый.      \n",
       "\n",
       "  Хорошо, а готовы к началу курса (6 сентября 2017) освоить азы Python? На уровне Code Academy, DataCamp или github.com/Yorko/python_intro  \\\n",
       "0                                                 Да                                                                                         \n",
       "1                                                 Да                                                                                         \n",
       "\n",
       "  Оцените свой уровень владения GitHub  \\\n",
       "0                                 Проф   \n",
       "1               Могу скачать материалы   \n",
       "\n",
       "  Посоветуйте хороший фильм в стиле \"Игра в имитацию\" :)  \n",
       "0  Прочитай книгу Лема \"Голос Неба\", очень много ...      \n",
       "1                                                NaN      "
      ]
     },
     "execution_count": 25,
     "metadata": {},
     "output_type": "execute_result"
    }
   ],
   "source": [
    "poll_data.head(2)"
   ]
  },
  {
   "cell_type": "code",
   "execution_count": 26,
   "metadata": {},
   "outputs": [],
   "source": [
    "# Сразу видно одно неудобство - очень длинные названия признаков, которые будут использоваться как:\n",
    "# poll_data['Посоветуйте хороший фильм в стиле \"Игра в имитацию\" :)']"
   ]
  },
  {
   "cell_type": "code",
   "execution_count": 28,
   "metadata": {},
   "outputs": [
    {
     "data": {
      "text/plain": [
       "{'id': 'id',\n",
       " 'Timestamp': 'time',\n",
       " 'Представьтесь в 2-3 фразах': 'intro',\n",
       " 'Работали ли Вы с Jupyter notebooks?': 'jupyter',\n",
       " 'Что Вы ждете от курса?': 'expect',\n",
       " 'Потом мы прямо этот же набор данных поанализируем с Pandas. Так что какой Ваш любимый вид спорта?': 'sport',\n",
       " 'Ладно, посерьезней: согласны ли Вы на обработку персональных данных?': 'personal',\n",
       " 'Какие оцениваете свой уровень математической подготовки? (матан, линал, теорвер)': 'math_level',\n",
       " 'Чему равна дисперсия равномерного на [0,6] распределения?': 'quest1',\n",
       " 'Найдите минимум функции 3x^4-8x^3+6x^2-12 на отрезке [-3,3]': 'quest2',\n",
       " 'Сколько параметров у нормального распределения?': 'quest3',\n",
       " 'Сможете написать на Python генератор чисел Фибоначчи?': 'fib_gen',\n",
       " 'Хорошо, а готовы к началу курса (6 сентября 2017) освоить азы Python? На уровне Code Academy, DataCamp или github.com/Yorko/python_intro': 'python',\n",
       " 'Оцените свой уровень владения GitHub': 'github',\n",
       " 'Посоветуйте хороший фильм в стиле \"Игра в имитацию\" :)': 'movie'}"
      ]
     },
     "execution_count": 28,
     "metadata": {},
     "output_type": "execute_result"
    }
   ],
   "source": [
    "dict(zip(poll_data.columns, ['id', 'time', 'intro', 'jupyter', 'expect',\n",
    "                      'sport', 'personal', 'math_level', 'quest1',\n",
    "                      'quest2', 'quest3', 'fib_gen', 'python',\n",
    "                      'github', 'movie']))"
   ]
  },
  {
   "cell_type": "code",
   "execution_count": 33,
   "metadata": {},
   "outputs": [],
   "source": [
    "rename_dic = dict(zip(poll_data.columns,\n",
    "                     ['id', 'time', 'intro', 'jupyter', 'expect',\n",
    "                      'sport', 'personal', 'math_level', 'quest1',\n",
    "                      'quest2', 'quest3', 'fib_gen', 'python',\n",
    "                      'github', 'movie']))"
   ]
  },
  {
   "cell_type": "code",
   "execution_count": 34,
   "metadata": {},
   "outputs": [],
   "source": [
    "poll_data.rename(columns=rename_dic, inplace=True) # переименовываем с помощью метода rename"
   ]
  },
  {
   "cell_type": "code",
   "execution_count": 35,
   "metadata": {},
   "outputs": [
    {
     "data": {
      "text/html": [
       "<div>\n",
       "<style scoped>\n",
       "    .dataframe tbody tr th:only-of-type {\n",
       "        vertical-align: middle;\n",
       "    }\n",
       "\n",
       "    .dataframe tbody tr th {\n",
       "        vertical-align: top;\n",
       "    }\n",
       "\n",
       "    .dataframe thead th {\n",
       "        text-align: right;\n",
       "    }\n",
       "</style>\n",
       "<table border=\"1\" class=\"dataframe\">\n",
       "  <thead>\n",
       "    <tr style=\"text-align: right;\">\n",
       "      <th></th>\n",
       "      <th>id</th>\n",
       "      <th>time</th>\n",
       "      <th>intro</th>\n",
       "      <th>jupyter</th>\n",
       "      <th>expect</th>\n",
       "      <th>sport</th>\n",
       "      <th>personal</th>\n",
       "      <th>math_level</th>\n",
       "      <th>quest1</th>\n",
       "      <th>quest2</th>\n",
       "      <th>quest3</th>\n",
       "      <th>fib_gen</th>\n",
       "      <th>python</th>\n",
       "      <th>github</th>\n",
       "      <th>movie</th>\n",
       "    </tr>\n",
       "  </thead>\n",
       "  <tbody>\n",
       "    <tr>\n",
       "      <th>0</th>\n",
       "      <td>0</td>\n",
       "      <td>2016/12/05 10:39:59 am GMT+3</td>\n",
       "      <td>крутой Developer</td>\n",
       "      <td>Да</td>\n",
       "      <td>Ребята, вижу ваш настрой, уверен курс будет ин...</td>\n",
       "      <td>Starcraft</td>\n",
       "      <td>Да</td>\n",
       "      <td>4</td>\n",
       "      <td>3</td>\n",
       "      <td>-12</td>\n",
       "      <td>2.0</td>\n",
       "      <td>Да</td>\n",
       "      <td>Да</td>\n",
       "      <td>Проф</td>\n",
       "      <td>Прочитай книгу Лема \"Голос Неба\", очень много ...</td>\n",
       "    </tr>\n",
       "    <tr>\n",
       "      <th>1</th>\n",
       "      <td>1</td>\n",
       "      <td>2016/12/05 10:44:27 am GMT+3</td>\n",
       "      <td>Разработчик Navision. Изучаю тему DS для возмо...</td>\n",
       "      <td>Да</td>\n",
       "      <td>Практики, подкрепленной теорией. Хочется упоря...</td>\n",
       "      <td>NaN</td>\n",
       "      <td>Да</td>\n",
       "      <td>1</td>\n",
       "      <td>3</td>\n",
       "      <td>NaN</td>\n",
       "      <td>2.0</td>\n",
       "      <td>Да, но фиговый.</td>\n",
       "      <td>Да</td>\n",
       "      <td>Могу скачать материалы</td>\n",
       "      <td>NaN</td>\n",
       "    </tr>\n",
       "  </tbody>\n",
       "</table>\n",
       "</div>"
      ],
      "text/plain": [
       "   id                          time  \\\n",
       "0   0  2016/12/05 10:39:59 am GMT+3   \n",
       "1   1  2016/12/05 10:44:27 am GMT+3   \n",
       "\n",
       "                                               intro jupyter  \\\n",
       "0                                   крутой Developer      Да   \n",
       "1  Разработчик Navision. Изучаю тему DS для возмо...      Да   \n",
       "\n",
       "                                              expect      sport personal  \\\n",
       "0  Ребята, вижу ваш настрой, уверен курс будет ин...  Starcraft       Да   \n",
       "1  Практики, подкрепленной теорией. Хочется упоря...        NaN       Да   \n",
       "\n",
       "   math_level quest1 quest2  quest3          fib_gen python  \\\n",
       "0           4      3    -12     2.0               Да     Да   \n",
       "1           1      3    NaN     2.0  Да, но фиговый.     Да   \n",
       "\n",
       "                   github                                              movie  \n",
       "0                    Проф  Прочитай книгу Лема \"Голос Неба\", очень много ...  \n",
       "1  Могу скачать материалы                                                NaN  "
      ]
     },
     "execution_count": 35,
     "metadata": {},
     "output_type": "execute_result"
    }
   ],
   "source": [
    "poll_data.head(2)"
   ]
  },
  {
   "cell_type": "code",
   "execution_count": 41,
   "metadata": {},
   "outputs": [
    {
     "data": {
      "text/plain": [
       "Да                                                              2071\n",
       "Нет                                                              766\n",
       "немного                                                            7\n",
       "Немного                                                            3\n",
       "Spyder IDE                                                         2\n",
       "Да, но мало                                                        2\n",
       "Немного,  недавно начал проходить курс от яндекса на курсоре       2\n",
       "не много                                                           1\n",
       "Работал в Spyder                                                   1\n",
       "А удаленное обучение возможно?                                     1\n",
       "Name: jupyter, dtype: int64"
      ]
     },
     "execution_count": 41,
     "metadata": {},
     "output_type": "execute_result"
    }
   ],
   "source": [
    "poll_data['jupyter'].value_counts().head(10) # видим что данные разнородные"
   ]
  },
  {
   "cell_type": "code",
   "execution_count": 44,
   "metadata": {},
   "outputs": [
    {
     "data": {
      "text/plain": [
       "0    1.0\n",
       "1    1.0\n",
       "2    1.0\n",
       "3    1.0\n",
       "4    1.0\n",
       "Name: jupyter, dtype: float64"
      ]
     },
     "execution_count": 44,
     "metadata": {},
     "output_type": "execute_result"
    }
   ],
   "source": [
    "# Отфильтруем эти ответы на 'Да', 'Нет' и 'Остальное'\n",
    "poll_data['jupyter'].map({'Да': 1, 'Нет': 0}).head()"
   ]
  },
  {
   "cell_type": "code",
   "execution_count": 45,
   "metadata": {},
   "outputs": [
    {
     "data": {
      "text/plain": [
       "array([ 1., nan,  0.])"
      ]
     },
     "execution_count": 45,
     "metadata": {},
     "output_type": "execute_result"
    }
   ],
   "source": [
    "poll_data['jupyter'].map({'Да': 1, 'Нет': 0}).unique() # unique - показывает все уникальные значения"
   ]
  },
  {
   "cell_type": "code",
   "execution_count": 48,
   "metadata": {},
   "outputs": [
    {
     "data": {
      "text/plain": [
       "1.0    2071\n",
       "0.0     766\n",
       "Name: jupyter, dtype: int64"
      ]
     },
     "execution_count": 48,
     "metadata": {},
     "output_type": "execute_result"
    }
   ],
   "source": [
    "poll_data['jupyter'].map({'Да': 1, 'Нет': 0}).value_counts() # nan не посчитались"
   ]
  },
  {
   "cell_type": "code",
   "execution_count": 50,
   "metadata": {},
   "outputs": [
    {
     "data": {
      "text/plain": [
       "1.0    2071\n",
       "0.0     766\n",
       "2.0     107\n",
       "Name: jupyter, dtype: int64"
      ]
     },
     "execution_count": 50,
     "metadata": {},
     "output_type": "execute_result"
    }
   ],
   "source": [
    "poll_data['jupyter'].map({'Да': 1, 'Нет': 0}).fillna(2).value_counts() # fillna - меняет дефолтное значение на аргумент(2)"
   ]
  },
  {
   "cell_type": "code",
   "execution_count": 54,
   "metadata": {},
   "outputs": [
    {
     "data": {
      "image/png": "[encoded data removed]",
      "text/plain": [
       "<Figure size 432x288 with 1 Axes>"
      ]
     },
     "metadata": {},
     "output_type": "display_data"
    }
   ],
   "source": [
    "jupyter_levels = poll_data['jupyter'].map({'Да': 1, 'Нет': 0}).fillna(2).value_counts()\n",
    "sns.countplot(jupyter_levels);"
   ]
  },
  {
   "cell_type": "code",
   "execution_count": 56,
   "metadata": {},
   "outputs": [
    {
     "data": {
      "image/png": "[encoded data removed]",
      "text/plain": [
       "<Figure size 432x288 with 1 Axes>"
      ]
     },
     "metadata": {},
     "output_type": "display_data"
    }
   ],
   "source": [
    "# Неправильно построен график - увидели что в объекте 3 значения и каждый встречается по одному разу.\n",
    "# Необходимо убрать value_counts - тогда будет столбец значений и его можем нарисовать.\n",
    "jupyter_levels = poll_data['jupyter'].map({'Да': 1, 'Нет': 0}).fillna(2)\n",
    "sns.countplot(jupyter_levels);"
   ]
  },
  {
   "cell_type": "code",
   "execution_count": 57,
   "metadata": {},
   "outputs": [
    {
     "data": {
      "text/plain": [
       "0                                     крутой Developer\n",
       "1    Разработчик Navision. Изучаю тему DS для возмо...\n",
       "2    Я Software Engeneer разработчик, активно интер...\n",
       "3    Семилетний инженер. Специализируюсь в компьюте...\n",
       "4                           программист. pl/sql python\n",
       "Name: intro, dtype: object"
      ]
     },
     "execution_count": 57,
     "metadata": {},
     "output_type": "execute_result"
    }
   ],
   "source": [
    "# В столбце 'представьтесь' посчитаем топ-10 популярных слов:\n",
    "poll_data['intro'].head()"
   ]
  },
  {
   "cell_type": "code",
   "execution_count": 59,
   "metadata": {},
   "outputs": [
    {
     "data": {
      "text/plain": [
       "2939        [Занимаюсь, анализом, данных, в, страховании]\n",
       "2940                    [Аналитик, в, телеком, компании.]\n",
       "2941    [Занимаюсь, сопровождением, автоматизированных...\n",
       "2942                           [разработчик, Python,, JS]\n",
       "2943    [Работал, аналитиком, в, разных, сферах,, вклю...\n",
       "Name: intro, dtype: object"
      ]
     },
     "execution_count": 59,
     "metadata": {},
     "output_type": "execute_result"
    }
   ],
   "source": [
    "# Попытаемся все строчки объединить и создать один большой 'мешок слов'.\n",
    "poll_data['intro'].apply(lambda s: s.strip().split()).tail() # представим каждую строку как список слов:"
   ]
  },
  {
   "cell_type": "code",
   "execution_count": 60,
   "metadata": {},
   "outputs": [
    {
     "data": {
      "text/plain": [
       "array(['a', 'b', 'c', 'd'], dtype='<U1')"
      ]
     },
     "execution_count": 60,
     "metadata": {},
     "output_type": "execute_result"
    }
   ],
   "source": [
    "# используем метод concatenate из numpy:\n",
    "b = np.array([['a', 'b'], ['c', 'd']])\n",
    "np.concatenate(b)"
   ]
  },
  {
   "cell_type": "code",
   "execution_count": 61,
   "metadata": {},
   "outputs": [
    {
     "data": {
      "text/plain": [
       "array([list(['крутой', 'Developer']),\n",
       "       list(['Разработчик', 'Navision.', 'Изучаю', 'тему', 'DS', 'для', 'возможной', 'переквалификации.']),\n",
       "       list(['Я', 'Software', 'Engeneer', 'разработчик,', 'активно', 'интересующийся', 'областью', 'машинного', 'обучения.', 'Имею', 'реальный', 'опыт', 'в', 'DL', '(неcколько', 'задача', 'связанных', 'с', 'разпознавание', 'объектов', 'и', 'классификацией', 'изображений).']),\n",
       "       ...,\n",
       "       list(['Занимаюсь', 'сопровождением', 'автоматизированных', 'систем,', 'в', 'т.ч.', 'тех,', 'в', 'которых', 'очень', 'много', 'данных', 'в', 'БД', 'хранится.', 'Люблю', '\"покопаться\"', 'в', 'данных.', 'Изучаю', 'питон', 'с', '2017', 'года']),\n",
       "       list(['разработчик', 'Python,', 'JS']),\n",
       "       list(['Работал', 'аналитиком', 'в', 'разных', 'сферах,', 'включая', 'e-commerce,', 'телеком', 'и', 'онлайн-банкинг.', 'Увлекаюсь', 'программированием'])],\n",
       "      dtype=object)"
      ]
     },
     "execution_count": 61,
     "metadata": {},
     "output_type": "execute_result"
    }
   ],
   "source": [
    "poll_data['intro'].apply(lambda s: s.strip().split()).values"
   ]
  },
  {
   "cell_type": "code",
   "execution_count": 66,
   "metadata": {},
   "outputs": [],
   "source": [
    "all_unique_words = set(np.concatenate(poll_data['intro'].apply(lambda s: s.strip().split()).values))"
   ]
  },
  {
   "cell_type": "code",
   "execution_count": 67,
   "metadata": {},
   "outputs": [],
   "source": [
    "# DataFrame в Pandas опираются на numpy, numpy опирается на c++"
   ]
  },
  {
   "cell_type": "code",
   "execution_count": 68,
   "metadata": {},
   "outputs": [
    {
     "data": {
      "text/plain": [
       "8294"
      ]
     },
     "execution_count": 68,
     "metadata": {},
     "output_type": "execute_result"
    }
   ],
   "source": [
    "len(all_unique_words)"
   ]
  },
  {
   "cell_type": "code",
   "execution_count": 69,
   "metadata": {},
   "outputs": [],
   "source": [
    "all_words = np.concatenate(poll_data['intro'].apply(lambda s: s.strip().split()).values)"
   ]
  },
  {
   "cell_type": "code",
   "execution_count": 70,
   "metadata": {},
   "outputs": [
    {
     "data": {
      "text/plain": [
       "26533"
      ]
     },
     "execution_count": 70,
     "metadata": {},
     "output_type": "execute_result"
    }
   ],
   "source": [
    "len(all_words)"
   ]
  },
  {
   "cell_type": "code",
   "execution_count": 71,
   "metadata": {},
   "outputs": [
    {
     "data": {
      "text/plain": [
       "в                        1235\n",
       "и                         734\n",
       "на                        409\n",
       "по                        283\n",
       "Студент                   279\n",
       "с                         219\n",
       "Работаю                   201\n",
       "курса                     187\n",
       "данных                    178\n",
       "Data                      173\n",
       "Я                         166\n",
       "работаю                   157\n",
       "data                      130\n",
       "машинным                  123\n",
       "хочу                      122\n",
       "ML                        122\n",
       "-                         114\n",
       "занимаюсь                 103\n",
       "интересуюсь               101\n",
       "не                        100\n",
       "Хочу                       98\n",
       "студент                    93\n",
       "но                         88\n",
       "анализом                   88\n",
       "Интересуюсь                88\n",
       "для                        87\n",
       "я                          86\n",
       "Люблю                      80\n",
       "В                          80\n",
       "ВШЭ                        76\n",
       "                         ... \n",
       "авиакомпании                1\n",
       "перевернуть                 1\n",
       "теплофизик,                 1\n",
       "нефтехимической             1\n",
       "весёлый                     1\n",
       "профессора                  1\n",
       "уважаемые                   1\n",
       "помню.                      1\n",
       "сайте                       1\n",
       "мозге)                      1\n",
       "страховых                   1\n",
       "Елена                       1\n",
       "Сашка                       1\n",
       "Ына                         1\n",
       "универсальный               1\n",
       "летние                      1\n",
       "оборудованием               1\n",
       "вероятности.                1\n",
       "нуб                         1\n",
       "TI7)                        1\n",
       "аутсорсе,                   1\n",
       "осознание,                  1\n",
       "матстатистике               1\n",
       "Битрикс                     1\n",
       "Bank                        1\n",
       "Красногорске.               1\n",
       "МФТИ+Яндекс,                1\n",
       "Java-Python,                1\n",
       "научпоп                     1\n",
       "программист-самоучка,       1\n",
       "Length: 8294, dtype: int64"
      ]
     },
     "execution_count": 71,
     "metadata": {},
     "output_type": "execute_result"
    }
   ],
   "source": [
    "# Метод 'в лоб': множество превратить в список - а потом еще в Series\n",
    "pd.Series(list(all_words)).value_counts()"
   ]
  },
  {
   "cell_type": "code",
   "execution_count": 72,
   "metadata": {},
   "outputs": [],
   "source": [
    "# Видно что первые места занимают 'стоп-слова' - предлоги. Избавимся от них."
   ]
  },
  {
   "cell_type": "code",
   "execution_count": 75,
   "metadata": {},
   "outputs": [],
   "source": [
    "from nltk.corpus import stopwords"
   ]
  },
  {
   "cell_type": "code",
   "execution_count": 76,
   "metadata": {},
   "outputs": [
    {
     "name": "stdout",
     "output_type": "stream",
     "text": [
      "[nltk_data] Downloading package stopwords to\n",
      "[nltk_data]     C:\\Users\\NotePad\\AppData\\Roaming\\nltk_data...\n",
      "[nltk_data]   Unzipping corpora\\stopwords.zip.\n"
     ]
    },
    {
     "data": {
      "text/plain": [
       "True"
      ]
     },
     "execution_count": 76,
     "metadata": {},
     "output_type": "execute_result"
    }
   ],
   "source": [
    "nltk.download('stopwords')"
   ]
  },
  {
   "cell_type": "code",
   "execution_count": 77,
   "metadata": {},
   "outputs": [
    {
     "data": {
      "text/plain": [
       "151"
      ]
     },
     "execution_count": 77,
     "metadata": {},
     "output_type": "execute_result"
    }
   ],
   "source": [
    "len(stopwords.words('russian'))"
   ]
  },
  {
   "cell_type": "code",
   "execution_count": 79,
   "metadata": {},
   "outputs": [
    {
     "data": {
      "text/plain": [
       "0    False\n",
       "1    False\n",
       "2    False\n",
       "3    False\n",
       "4    False\n",
       "5    False\n",
       "6    False\n",
       "7     True\n",
       "8    False\n",
       "9    False\n",
       "dtype: bool"
      ]
     },
     "execution_count": 79,
     "metadata": {},
     "output_type": "execute_result"
    }
   ],
   "source": [
    "# Определим входит ли значение в стоп-слова:\n",
    "pd.Series(list(all_words)).isin(stopwords.words('russian')).head(10)"
   ]
  },
  {
   "cell_type": "code",
   "execution_count": 82,
   "metadata": {},
   "outputs": [
    {
     "data": {
      "text/plain": [
       "Студент     279\n",
       "Работаю     201\n",
       "курса       187\n",
       "данных      178\n",
       "Data        173\n",
       "Я           166\n",
       "работаю     157\n",
       "data        130\n",
       "машинным    123\n",
       "ML          122\n",
       "dtype: int64"
      ]
     },
     "execution_count": 82,
     "metadata": {},
     "output_type": "execute_result"
    }
   ],
   "source": [
    "words_series = pd.Series(list(all_words))\n",
    "words_series[~words_series.isin(stopwords.words('russian'))].value_counts().head(10)"
   ]
  }
 ],
 "metadata": {
  "kernelspec": {
   "display_name": "Python 3",
   "language": "python",
   "name": "python3"
  },
  "language_info": {
   "codemirror_mode": {
    "name": "ipython",
    "version": 3
   },
   "file_extension": ".py",
   "mimetype": "text/x-python",
   "name": "python",
   "nbconvert_exporter": "python",
   "pygments_lexer": "ipython3",
   "version": "3.7.0"
  }
 },
 "nbformat": 4,
 "nbformat_minor": 2
}
